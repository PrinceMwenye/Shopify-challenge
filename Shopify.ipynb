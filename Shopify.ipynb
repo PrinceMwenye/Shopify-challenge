{
 "cells": [
  {
   "cell_type": "code",
   "execution_count": null,
   "id": "b5fad4de",
   "metadata": {},
   "outputs": [],
   "source": [
    "import pandas as pd\n",
    "import numpy as np\n",
    "import seaborn as sns\n",
    "import matplotlib.pyplot as plt\n"
   ]
  },
  {
   "cell_type": "code",
   "execution_count": null,
   "id": "0c157572",
   "metadata": {},
   "outputs": [],
   "source": [
    "transactions = pd.read_csv('shopify.csv')\n",
    "\n",
    "transactions = transactions.iloc[:, 0:-1]\n",
    "\n",
    "transactions['order_amount'].sum()/5000"
   ]
  },
  {
   "cell_type": "code",
   "execution_count": null,
   "id": "ea609bd4",
   "metadata": {},
   "outputs": [],
   "source": [
    "#check for missing values, no missing values and duplicates across all 8 colmuns\n",
    "\n",
    "missing = transactions.isna().sum()\n",
    "\n",
    "duplicates = transactions.duplicated(keep = \"first\").sum()\n",
    "\n",
    "transactions.dtypes\n"
   ]
  },
  {
   "cell_type": "code",
   "execution_count": null,
   "id": "7b325a44",
   "metadata": {},
   "outputs": [],
   "source": [
    "transactions['order_amount'].median()\n",
    "\n",
    "# get day of the week\n",
    "transactions[\"created_at\"] = transactions[\"created_at\"].apply(lambda i: i[:10])\n",
    "\n",
    "transactions[\"created_at\"] = pd.to_datetime(transactions[\"created_at\"], format='%Y/%m/%d')\n"
   ]
  },
  {
   "cell_type": "code",
   "execution_count": null,
   "id": "2ba766ae",
   "metadata": {},
   "outputs": [],
   "source": [
    "# add average price column for each transaction\n",
    "transactions['price_per_sneaker'] = transactions['order_amount']/ transactions['total_items']\n",
    "\n",
    "# check price per sneaker for each shop\n",
    "\n",
    "store_stats = transactions.groupby(\"shop_id\").agg({\"price_per_sneaker\":['mean', 'min', 'max']}) # since one sneaker all same\n",
    "\n",
    "store_stats.columns = [\"price_mean\", \"price_min\", \"price_max\"]\n",
    "store_stats = store_stats.reset_index()\n",
    "\n",
    "#now can plot to see the range of prices\n",
    "\n",
    "\n",
    "# zoomed out\n",
    "sns.catplot(x = \"shop_id\",\n",
    "            y = \"price_mean\",\n",
    "            kind = \"bar\",\n",
    "            data = store_stats)\n",
    "\n",
    "\n",
    "plt.xlim(0, 100)\n",
    "plt.xticks(rotation=90)\n",
    "plt.show()"
   ]
  },
  {
   "cell_type": "code",
   "execution_count": null,
   "id": "6bd27634",
   "metadata": {},
   "outputs": [],
   "source": [
    "store_stats.describe()\n",
    "\n",
    "transactions[\"day_of_week\"] = transactions[\"created_at\"].dt.day_name()\n",
    "\n",
    "sns.catplot(x='day_of_week', \n",
    "            y='order_amount',\n",
    "           kind = \"bar\",\n",
    "             data=transactions)\n",
    "\n",
    "# average price per a pair of sneakers\n",
    "transactions['order_amount'].sum()/transactions['total_items'].sum()"
   ]
  },
  {
   "cell_type": "code",
   "execution_count": null,
   "id": "fc44f6c4",
   "metadata": {},
   "outputs": [],
   "source": [
    "\n",
    "#WE have an insanely high price mean\n",
    "\n",
    "#check prder_amount by date\n",
    "sns.set_style('darkgrid')\n",
    "sns.lineplot(x='created_at', y='order_amount',\n",
    "             markers=True,\n",
    "              data=transactions)\n",
    "\n",
    "plt.xticks(rotation=45)\n",
    "\n",
    "\n",
    "\n",
    "# filter out transaction with abnormal average\n",
    "\n",
    "# domain knowledge would say sneaker price should not be > 500\n",
    "def check_normal_price(row: float) -> bool:\n",
    "    \"\"\"Check normal price.\n",
    "    \n",
    "    A function to check if the price of a pair of sneakers is normal\n",
    "    \n",
    "    :param row: a flaot\n",
    "    :precondition: row is a float type\n",
    "    :postcondition: checks if the price is normal (below 500)\n",
    "    :return: boolean value, True if price is normal, False if abnormal \n",
    "\n",
    "    \"\"\"\n",
    "    \n",
    "    return row['price_per_sneaker'] < 500\n",
    "        \n",
    "\n",
    "transactions['normal_price'] = transactions.apply(lambda price: check_normal_price(price), axis =1)\n",
    "\n",
    "\n",
    "\n",
    "abnormal_transactions = transactions[transactions['normal_price'] == False] \n"
   ]
  },
  {
   "cell_type": "code",
   "execution_count": null,
   "id": "9df4a219",
   "metadata": {},
   "outputs": [],
   "source": [
    "#ABNORMAL ANALYSIS\n",
    "\n",
    "shop_ids = abnormal_transactions.groupby(\"shop_id\")[\"order_id\"].count()   #shop_id 78 has 46 abnormal orders\n"
   ]
  },
  {
   "cell_type": "code",
   "execution_count": null,
   "id": "fd2b6c8c",
   "metadata": {},
   "outputs": [],
   "source": [
    "abnormal_payment_types_totals = abnormal_transactions.groupby(\"payment_method\")[\"order_amount\"].sum().sort_values(ascending=False).reset_index()\n",
    "\n",
    "#plot it\n",
    "\n",
    "sns.catplot(x = \"payment_method\",\n",
    "            y = \"order_amount\",\n",
    "            kind = \"bar\",\n",
    "            data = abnormal_payment_types_totals)\n",
    "\n"
   ]
  },
  {
   "cell_type": "code",
   "execution_count": null,
   "id": "7a5a4d6e",
   "metadata": {},
   "outputs": [],
   "source": [
    "#NORMAL ANALYSIS\n",
    "normal_transactions = transactions[transactions['normal_price'] == True]\n",
    "#metrics to use\n",
    "\n",
    "\n",
    "store_stats = normal_transactions.groupby(\"shop_id\").agg({\"order_amount\":['mean', 'min', 'max']}) # since one sneaker all same\n",
    "store_stats.columns = [\"price_mean\", \"price_min\", \"price_max\"]\n",
    "store_stats = store_stats.reset_index()\n",
    "\n",
    "# zoomed out\n",
    "sns.catplot(x = \"shop_id\",\n",
    "            y = \"price_mean\",\n",
    "            kind = \"bar\",\n",
    "            data = store_stats)\n",
    "\n",
    "plt.ylim(0, 10000)\n",
    "plt.xlim(0, 100)\n",
    "plt.xticks(rotation=90)\n",
    "plt.show()\n",
    "\n"
   ]
  },
  {
   "cell_type": "code",
   "execution_count": null,
   "id": "79930a9f",
   "metadata": {},
   "outputs": [],
   "source": [
    "store_stats.describe()\n",
    "\n",
    "trial = normal_transactions[normal_transactions['order_amount'] > 100000]\n",
    "# AVERAGE ORDER VALUE PER DAY\n",
    "\n",
    "aov_per_day = normal_transactions.groupby(\"created_at\").agg({\"order_amount\" : [\"mean\"]}).reset_index()\n",
    "aov_per_day.columns = [\"created_at\", \"aov\"]\n",
    "\n",
    "\n",
    "sns.set_style('darkgrid')\n",
    "sns.lineplot(x='created_at', y='aov',\n",
    "             markers=True,\n",
    "             dashes=False, data= aov_per_day)\n",
    "\n",
    "\n",
    "plt.xticks(rotation=90)"
   ]
  },
  {
   "cell_type": "code",
   "execution_count": null,
   "id": "b83a66d1",
   "metadata": {},
   "outputs": [],
   "source": [
    "#check quanityt of ordders by payment method. They are almost the same\n",
    "normal_payment_types = normal_transactions.groupby(\"payment_method\")[\"order_id\"].count().sort_values(ascending=False).reset_index()\n",
    "sns.catplot(x = \"payment_method\",\n",
    "            y = \"order_id\",\n",
    "            kind = \"bar\",\n",
    "            data = normal_payment_types)\n",
    "\n",
    "\n",
    "\n",
    "aov_per_payment_method = normal_transactions.groupby(\"payment_method\").agg({\"order_amount\": [\"mean\", \"max\"]}).reset_index()\n",
    "aov_per_payment_method.columns = [\"payment_method\", \"mean\", \"max\"]\n",
    "aov_per_payment_method = aov_per_payment_method.sort_values(by = \"mean\")\n",
    "# however, almost same when credit card is used\n",
    "\n",
    "sns.catplot(x = \"payment_method\",\n",
    "            y = \"mean\",\n",
    "            kind = \"bar\",\n",
    "            data = aov_per_payment_method)"
   ]
  },
  {
   "cell_type": "code",
   "execution_count": null,
   "id": "cf0a00c3",
   "metadata": {},
   "outputs": [],
   "source": [
    "\n",
    "#aov by date of the week\n",
    "\n",
    "aov_per_day = normal_transactions.groupby(\"day_of_week\").agg({\"order_amount\": [\"mean\", \"max\"]}).reset_index() \n",
    "aov_per_day.columns = [\"day\", \"mean\", \"max\"]\n",
    "aov_per_day= aov_per_day.sort_values(by=\"mean\")\n",
    "\n",
    "sns.catplot(x = \"day\",                 # weekends have a high aov\n",
    "            y = \"mean\",\n",
    "            kind = \"bar\",\n",
    "            data = aov_per_day)"
   ]
  },
  {
   "cell_type": "code",
   "execution_count": null,
   "id": "24955ebd",
   "metadata": {},
   "outputs": [],
   "source": [
    "\n",
    "normal_transactions['order_amount'].sum()/len(normal_transactions)\n",
    "store_stats_two = normal_transactions.groupby(\"shop_id\").agg({\"order_amount\":['mean', 'min', 'max']}).reset_index() # since one sneaker all same\n",
    "store_stats_two.columns = ['shop_id', 'mean', 'min', 'max']\n",
    "\n",
    "store_stats_two[store_stats_two['mean'] > 500][\"shop_id\"] # shop number 42 also skewes our average order value\n",
    "\n",
    "shop_42 = normal_transactions[normal_transactions['shop_id'] == 42]\n"
   ]
  },
  {
   "cell_type": "code",
   "execution_count": null,
   "id": "434ddd3b",
   "metadata": {},
   "outputs": [],
   "source": [
    "shop_42['order_amount'].sum()/len(shop_42)\n",
    "\n",
    "shop_42['total_items'].max()\n",
    "\n",
    "shop_42.groupby('total_items').count()\n",
    "\n",
    "\n",
    "normal_transactions = normal_transactions[normal_transactions[\"shop_id\"] != 42]\n",
    "normal_transactions[\"order_amount\"].sum()/len(normal_transactions)\n",
    "\n",
    "normal_transactions[\"order_amount\"].median()\n",
    "\n",
    "normal_transactions[\"order_amount\"].mode()\n",
    "\n",
    "# since its only 2 stores shouldnt affect much\n",
    "\n"
   ]
  },
  {
   "cell_type": "code",
   "execution_count": null,
   "id": "ce7ad08f",
   "metadata": {},
   "outputs": [],
   "source": []
  },
  {
   "cell_type": "code",
   "execution_count": null,
   "id": "d0c9533c",
   "metadata": {},
   "outputs": [],
   "source": []
  },
  {
   "cell_type": "code",
   "execution_count": null,
   "id": "42c79ccc",
   "metadata": {},
   "outputs": [],
   "source": []
  }
 ],
 "metadata": {
  "kernelspec": {
   "display_name": "Python 3",
   "language": "python",
   "name": "python3"
  },
  "language_info": {
   "codemirror_mode": {
    "name": "ipython",
    "version": 3
   },
   "file_extension": ".py",
   "mimetype": "text/x-python",
   "name": "python",
   "nbconvert_exporter": "python",
   "pygments_lexer": "ipython3",
   "version": "3.8.8"
  }
 },
 "nbformat": 4,
 "nbformat_minor": 5
}
